{
  "nbformat": 4,
  "nbformat_minor": 0,
  "metadata": {
    "colab": {
      "provenance": []
    },
    "kernelspec": {
      "name": "python3",
      "display_name": "Python 3"
    },
    "language_info": {
      "name": "python"
    }
  },
  "cells": [
    {
      "cell_type": "code",
      "execution_count": null,
      "metadata": {
        "id": "FIsSmz87nk3L"
      },
      "outputs": [],
      "source": [
        "def longest_palindrome(word):\n",
        "                                      # Create a dictionary to count the frequency of each character in the word\n",
        "    char_count = {}\n",
        "\n",
        "                                                # Loop through each character in the word\n",
        "    for char in word:\n",
        "                                                # Increase the count if the character is already in the dictionary\n",
        "        if char in char_count:\n",
        "            char_count[char] += 1\n",
        "                                                # Otherwise, set the count to 1\n",
        "        else:\n",
        "            char_count[char] = 1\n",
        "\n",
        "    palindrome_length = 0\n",
        "    odd_found = False                           # To track if we found any characters with an odd count\n",
        "\n",
        "                                                # Loop through the character counts\n",
        "    for count in char_count.values():\n",
        "                                                # Add the even part of the count to the palindrome length\n",
        "        palindrome_length += (count // 2) * 2\n",
        "\n",
        "                                                # If there's an odd count, we can use one of those characters in the middle of the palindrome\n",
        "        if count % 2 == 1:\n",
        "            odd_found = True\n",
        "\n",
        "                                                # If we found an odd character count, we can add 1 to the palindrome length for the middle character\n",
        "    if odd_found:\n",
        "        palindrome_length += 1\n",
        "\n",
        "    return palindrome_length\n",
        "\n",
        "            #Testing\n",
        "print(longest_palindrome(\"civic\"))\n",
        "print(longest_palindrome(\"MADAM\"))\n"
      ]
    }
  ]
}